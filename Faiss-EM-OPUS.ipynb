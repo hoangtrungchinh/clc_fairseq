{
 "cells": [
  {
   "cell_type": "markdown",
   "metadata": {},
   "source": [
    "INSTALL\n",
    "- FAISS - \n",
    "- Sent2Vec"
   ]
  },
  {
   "cell_type": "code",
   "execution_count": 1,
   "metadata": {},
   "outputs": [],
   "source": [
    "import numpy as np\n",
    "import faiss   "
   ]
  },
  {
   "cell_type": "code",
   "execution_count": 3,
   "metadata": {},
   "outputs": [
    {
     "name": "stdout",
     "output_type": "stream",
     "text": [
      "/home/lw/clc_fairseq/Faiss-EM-OPUS-20210112-1013\r\n"
     ]
    }
   ],
   "source": [
    "import os\n",
    "import time\n",
    "name =  \"Faiss-EM-OPUS-\"+str(time.strftime(\"%Y%m%d-%H%M\"))\n",
    "\n",
    "!mkdir $name\n",
    "path = os.getcwd() + \"/\" + name\n",
    "os.chdir(path)\n",
    "\n",
    "!pwd\n",
    "\n",
    "\n",
    "os.chdir(path)"
   ]
  },
  {
   "cell_type": "code",
   "execution_count": 4,
   "metadata": {},
   "outputs": [
    {
     "name": "stdout",
     "output_type": "stream",
     "text": [
      "--2021-01-12 10:13:25--  https://github.com/hoangtrungchinh/clc_data/raw/master/opus-100-corpus.zip\n",
      "Resolving github.com (github.com)... 52.74.223.119\n",
      "Connecting to github.com (github.com)|52.74.223.119|:443... connected.\n",
      "HTTP request sent, awaiting response... 302 Found\n",
      "Location: https://raw.githubusercontent.com/hoangtrungchinh/clc_data/master/opus-100-corpus.zip [following]\n",
      "--2021-01-12 10:13:26--  https://raw.githubusercontent.com/hoangtrungchinh/clc_data/master/opus-100-corpus.zip\n",
      "Resolving raw.githubusercontent.com (raw.githubusercontent.com)... 151.101.8.133\n",
      "Connecting to raw.githubusercontent.com (raw.githubusercontent.com)|151.101.8.133|:443... connected.\n",
      "HTTP request sent, awaiting response... 200 OK\n",
      "Length: 30690851 (29M) [application/zip]\n",
      "Saving to: ‘opus-100-corpus.zip’\n",
      "\n",
      "opus-100-corpus.zip 100%[===================>]  29,27M  5,54MB/s    in 5,4s    \n",
      "\n",
      "2021-01-12 10:13:35 (5,46 MB/s) - ‘opus-100-corpus.zip’ saved [30690851/30690851]\n",
      "\n",
      "Archive:  opus-100-corpus.zip\n",
      "  inflating: opus.en-vi-dev.en       \n",
      "  inflating: opus.en-vi-dev.vi       \n",
      "  inflating: opus.en-vi-test.en      \n",
      "  inflating: opus.en-vi-test.vi      \n",
      "  inflating: opus.en-vi-train.en     \n",
      "  inflating: opus.en-vi-train.vi     \n",
      "total 105160\n",
      "drwxrwxr-x 2 lw lw     4096 Thg 1  12 10:13 .\n",
      "drwxrwxr-x 3 lw lw     4096 Thg 1  12 10:13 ..\n",
      "-rw-rw-r-- 1 lw lw 30690851 Thg 1  12 10:13 opus-100-corpus.zip\n",
      "-rw-rw-r-- 1 lw lw    80388 Thg 12 31 13:51 opus.en-vi-dev.en\n",
      "-rw-rw-r-- 1 lw lw   102331 Thg 12 31 13:51 opus.en-vi-dev.vi\n",
      "-rw-rw-r-- 1 lw lw    80282 Thg 12 31 13:51 opus.en-vi-test.en\n",
      "-rw-rw-r-- 1 lw lw   100460 Thg 12 31 13:51 opus.en-vi-test.vi\n",
      "-rw-rw-r-- 1 lw lw 33049608 Thg 12 31 13:51 opus.en-vi-train.en\n",
      "-rw-rw-r-- 1 lw lw 43564860 Thg 12 31 13:51 opus.en-vi-train.vi\n"
     ]
    }
   ],
   "source": [
    "!mkdir data_bin\n",
    "!cd data_bin && wget https://github.com/hoangtrungchinh/clc_data/raw/master/opus-100-corpus.zip && unzip  'opus-100-corpus.zip' && ls -al"
   ]
  },
  {
   "cell_type": "code",
   "execution_count": 11,
   "metadata": {},
   "outputs": [
    {
     "name": "stdout",
     "output_type": "stream",
     "text": [
      "1004000\n",
      "1004000\n"
     ]
    }
   ],
   "source": [
    "# import file\n",
    "import numpy as np\n",
    "import glob\n",
    "\n",
    "en_files = sorted(glob.glob(\"data_bin/*.en\"))\n",
    "vi_files = sorted(glob.glob(\"data_bin/*.vi\"))\n",
    "lst_en = []\n",
    "lst_vi = []\n",
    "\n",
    "for file in en_files:\n",
    "  with open(file) as file_in:\n",
    "    for line in file_in:\n",
    "      lst_en.append(line)\n",
    "\n",
    "for file in vi_files:\n",
    "  with open(file) as file_in:\n",
    "    for line in file_in:\n",
    "      lst_vi.append(line)\n",
    "\n",
    "print(len(lst_en))\n",
    "print(len(lst_vi))"
   ]
  },
  {
   "cell_type": "code",
   "execution_count": 1,
   "metadata": {},
   "outputs": [
    {
     "ename": "NameError",
     "evalue": "name 'lst_en' is not defined",
     "output_type": "error",
     "traceback": [
      "\u001b[0;31m---------------------------------------------------------------------------\u001b[0m",
      "\u001b[0;31mNameError\u001b[0m                                 Traceback (most recent call last)",
      "\u001b[0;32m<ipython-input-1-159541ff9657>\u001b[0m in \u001b[0;36m<module>\u001b[0;34m\u001b[0m\n\u001b[1;32m      1\u001b[0m \u001b[0;31m# SPLIT TRAIN, TEST, VALID\u001b[0m\u001b[0;34m\u001b[0m\u001b[0;34m\u001b[0m\u001b[0;34m\u001b[0m\u001b[0m\n\u001b[1;32m      2\u001b[0m \u001b[0;32mfrom\u001b[0m \u001b[0msklearn\u001b[0m\u001b[0;34m.\u001b[0m\u001b[0mmodel_selection\u001b[0m \u001b[0;32mimport\u001b[0m \u001b[0mtrain_test_split\u001b[0m\u001b[0;34m\u001b[0m\u001b[0;34m\u001b[0m\u001b[0m\n\u001b[0;32m----> 3\u001b[0;31m \u001b[0men_train\u001b[0m\u001b[0;34m,\u001b[0m \u001b[0men_test_valid\u001b[0m\u001b[0;34m,\u001b[0m \u001b[0mvi_train\u001b[0m\u001b[0;34m,\u001b[0m \u001b[0mvi_test_valid\u001b[0m \u001b[0;34m=\u001b[0m  \u001b[0mtrain_test_split\u001b[0m\u001b[0;34m(\u001b[0m\u001b[0mlst_en\u001b[0m\u001b[0;34m,\u001b[0m \u001b[0mlst_vi\u001b[0m\u001b[0;34m,\u001b[0m \u001b[0mtest_size\u001b[0m\u001b[0;34m=\u001b[0m\u001b[0;36m0.2\u001b[0m\u001b[0;34m,\u001b[0m \u001b[0mrandom_state\u001b[0m\u001b[0;34m=\u001b[0m\u001b[0;36m123\u001b[0m\u001b[0;34m)\u001b[0m\u001b[0;34m\u001b[0m\u001b[0;34m\u001b[0m\u001b[0m\n\u001b[0m\u001b[1;32m      4\u001b[0m \u001b[0men_valid\u001b[0m\u001b[0;34m,\u001b[0m \u001b[0men_test\u001b[0m\u001b[0;34m,\u001b[0m \u001b[0mvi_valid\u001b[0m\u001b[0;34m,\u001b[0m \u001b[0mvi_test\u001b[0m \u001b[0;34m=\u001b[0m \u001b[0mtrain_test_split\u001b[0m\u001b[0;34m(\u001b[0m\u001b[0men_test_valid\u001b[0m\u001b[0;34m,\u001b[0m \u001b[0mvi_test_valid\u001b[0m\u001b[0;34m,\u001b[0m \u001b[0mtest_size\u001b[0m\u001b[0;34m=\u001b[0m\u001b[0;36m0.5\u001b[0m\u001b[0;34m,\u001b[0m \u001b[0mrandom_state\u001b[0m\u001b[0;34m=\u001b[0m\u001b[0;36m123\u001b[0m\u001b[0;34m)\u001b[0m\u001b[0;34m\u001b[0m\u001b[0;34m\u001b[0m\u001b[0m\n\u001b[1;32m      5\u001b[0m \u001b[0mprint\u001b[0m\u001b[0;34m(\u001b[0m\u001b[0mlen\u001b[0m\u001b[0;34m(\u001b[0m\u001b[0men_train\u001b[0m\u001b[0;34m)\u001b[0m\u001b[0;34m)\u001b[0m\u001b[0;34m\u001b[0m\u001b[0;34m\u001b[0m\u001b[0m\n",
      "\u001b[0;31mNameError\u001b[0m: name 'lst_en' is not defined"
     ]
    }
   ],
   "source": [
    "# SPLIT TRAIN, TEST, VALID\n",
    "from sklearn.model_selection import train_test_split\n",
    "en_train, en_test_valid, vi_train, vi_test_valid =  train_test_split(lst_en, lst_vi, test_size=0.2, random_state=123)\n",
    "en_valid, en_test, vi_valid, vi_test = train_test_split(en_test_valid, vi_test_valid, test_size=0.5, random_state=123)\n",
    "print(len(en_train))\n",
    "print(len(vi_train))\n",
    "print(len(en_valid))\n",
    "print(len(vi_valid))\n",
    "print(len(en_test))\n",
    "print(len(vi_test))\n",
    "print(en_train[-1])\n",
    "print(vi_train[-1])\n",
    "print(en_valid[-1])\n",
    "print(vi_valid[-1])\n",
    "print(en_test[-1])\n",
    "print(vi_test[-1])"
   ]
  },
  {
   "cell_type": "code",
   "execution_count": 14,
   "metadata": {},
   "outputs": [
    {
     "name": "stdout",
     "output_type": "stream",
     "text": [
      "total 75200\r\n",
      "drwxrwxr-x 3 lw lw     4096 Thg 1  12 10:30 .\r\n",
      "drwxrwxr-x 8 lw lw     4096 Thg 1  12 10:30 ..\r\n",
      "drwxrwxr-x 2 lw lw     4096 Thg 1  12 10:13 data_bin\r\n",
      "-rw-rw-r-- 1 lw lw  3318348 Thg 1  12 10:30 en_test\r\n",
      "-rw-rw-r-- 1 lw lw 26563373 Thg 1  12 10:30 en_train\r\n",
      "-rw-rw-r-- 1 lw lw  3328557 Thg 1  12 10:30 en_valid\r\n",
      "-rw-rw-r-- 1 lw lw  4365721 Thg 1  12 10:30 vi_test\r\n",
      "-rw-rw-r-- 1 lw lw 35019159 Thg 1  12 10:30 vi_train\r\n",
      "-rw-rw-r-- 1 lw lw  4382771 Thg 1  12 10:30 vi_valid\r\n"
     ]
    }
   ],
   "source": [
    "file_variable = [en_train,vi_train,en_valid,vi_valid,en_test,vi_test]\n",
    "file_names = [\"en_train\",\"vi_train\",\"en_valid\",\"vi_valid\",\"en_test\",\"vi_test\"]\n",
    "\n",
    "for i in range(len(file_names)):\n",
    "  with open(file_names[i], 'w') as f:\n",
    "    for item in file_variable[i]:\n",
    "      f.write(item)\n",
    "!ls -al"
   ]
  },
  {
   "cell_type": "code",
   "execution_count": 15,
   "metadata": {},
   "outputs": [],
   "source": [
    "import sent2vec\n",
    "model = sent2vec.Sent2vecModel()\n",
    "model.load_model('../wiki_unigrams.bin')"
   ]
  },
  {
   "cell_type": "code",
   "execution_count": 16,
   "metadata": {},
   "outputs": [],
   "source": [
    "srcfile = \"en_train\"\n",
    "tarfile = \"vi_train\"\n",
    "lst_srcfile = open(srcfile, \"r\").readlines()\n",
    "lst_tarfile = open(tarfile, \"r\").readlines()\n",
    "\n",
    "vec_lst_srcfile = model.embed_sentences(lst_srcfile)"
   ]
  },
  {
   "cell_type": "markdown",
   "metadata": {},
   "source": [
    "Test Cosin similarity"
   ]
  },
  {
   "cell_type": "code",
   "execution_count": 17,
   "metadata": {
    "scrolled": true
   },
   "outputs": [
    {
     "name": "stdout",
     "output_type": "stream",
     "text": [
      "[[     0   1599  76308 133448  82410  27847]\n",
      " [     1  99160 354833 267109  59187  44527]\n",
      " [ 63365 135969 150396 270479 239117  62418]\n",
      " ...\n",
      " [803195  53990  66032  45540  76992  68747]\n",
      " [145743  43210 292962 300496 296145 180811]\n",
      " [151217 153423 112856 803197 244142 597120]]\n",
      "[[7.1525574e-07 7.1525574e-07 7.1525574e-07 7.1525574e-07 7.1525574e-07\n",
      "  7.1525574e-07]\n",
      " [1.1920929e-07 3.1163800e-01 3.7609673e-01 3.9664578e-01 4.7298753e-01\n",
      "  5.5491567e-01]\n",
      " [0.0000000e+00 0.0000000e+00 0.0000000e+00 0.0000000e+00 0.0000000e+00\n",
      "  0.0000000e+00]\n",
      " ...\n",
      " [1.1920929e-07 2.3841858e-07 2.3841858e-07 2.3841858e-07 2.3841858e-07\n",
      "  2.3841858e-07]\n",
      " [4.7683716e-07 4.7683716e-07 4.7683716e-07 4.7683716e-07 4.7683716e-07\n",
      "  4.7683716e-07]\n",
      " [2.3841858e-07 2.3841858e-07 2.3841858e-07 2.3841858e-07 2.3841858e-07\n",
      "  8.9151144e-02]]\n"
     ]
    }
   ],
   "source": [
    "import faiss\n",
    "\n",
    "vec_lst_srcfile = model.embed_sentences(lst_srcfile)\n",
    "vec_lst_srcfile2 = model.embed_sentences(lst_srcfile)\n",
    "x = vec_lst_srcfile\n",
    "q = vec_lst_srcfile2\n",
    "index = faiss.IndexFlatL2(600)\n",
    "# index = faiss.index_factory(3, \"Flat\", faiss.METRIC_INNER_PRODUCT)\n",
    "index.ntotal\n",
    "faiss.normalize_L2(x)\n",
    "index.add(x)\n",
    "faiss.normalize_L2(q)\n",
    "k = 6\n",
    "distance, index = index.search(q, k)\n",
    "print(index)\n",
    "print(distance)"
   ]
  },
  {
   "cell_type": "code",
   "execution_count": 18,
   "metadata": {},
   "outputs": [
    {
     "name": "stdout",
     "output_type": "stream",
     "text": [
      "1422\n",
      "==================================\n",
      "0.0\n",
      "0.0\n"
     ]
    }
   ],
   "source": [
    "i = 6\n",
    "j = k-1\n",
    "print(index[i][j])\n",
    "print(\"==================================\")\n",
    "print(distance[i][j])\n",
    "\n",
    "a = vec_lst_srcfile[i]\n",
    "# print(a)\n",
    "b = vec_lst_srcfile[index[i][j]]\n",
    "# TEST\n",
    "dist_squared = np.sum(np.square(a - b))\n",
    "print(dist_squared)"
   ]
  },
  {
   "cell_type": "code",
   "execution_count": 19,
   "metadata": {},
   "outputs": [
    {
     "name": "stdout",
     "output_type": "stream",
     "text": [
      "=== Ending, Total time (second):  7.957433223724365\n"
     ]
    }
   ],
   "source": [
    "import time\n",
    "\n",
    "start = time.time()\n",
    "saperate = \" || \"\n",
    "threshold = 0.8\n",
    "\n",
    "out_file_write = open(\"en_train_EM\", 'w')\n",
    "out_file_write_score = open(\"en_train_EM_score\", 'w')\n",
    "for i in range(len(lst_srcfile)):\n",
    "    score = distance[i][1]\n",
    "    if score >= threshold:\n",
    "        out_file_write.writelines(lst_srcfile[i].strip() + saperate + lst_tarfile[index[i][1]])\n",
    "    else:\n",
    "        out_file_write.writelines(lst_srcfile[i])\n",
    "    out_file_write_score.writelines(str(score) + \"\\n\")\n",
    "        \n",
    "\n",
    "out_file_write.close()\n",
    "\n",
    "done = time.time()\n",
    "elapsed = done - start\n",
    "print('=== Ending, Total time (second): ', elapsed)"
   ]
  },
  {
   "cell_type": "code",
   "execution_count": null,
   "metadata": {},
   "outputs": [],
   "source": []
  }
 ],
 "metadata": {
  "kernelspec": {
   "display_name": "Python 3",
   "language": "python",
   "name": "python3"
  },
  "language_info": {
   "codemirror_mode": {
    "name": "ipython",
    "version": 3
   },
   "file_extension": ".py",
   "mimetype": "text/x-python",
   "name": "python",
   "nbconvert_exporter": "python",
   "pygments_lexer": "ipython3",
   "version": "3.6.12"
  }
 },
 "nbformat": 4,
 "nbformat_minor": 4
}
