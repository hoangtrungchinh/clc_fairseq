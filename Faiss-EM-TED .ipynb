{
 "cells": [
  {
   "cell_type": "markdown",
   "metadata": {},
   "source": [
    "INSTALL\n",
    "- FAISS - \n",
    "- Sent2Vec"
   ]
  },
  {
   "cell_type": "code",
   "execution_count": 1,
   "metadata": {},
   "outputs": [],
   "source": [
    "import numpy as np\n",
    "import faiss   "
   ]
  },
  {
   "cell_type": "code",
   "execution_count": 2,
   "metadata": {},
   "outputs": [
    {
     "name": "stdout",
     "output_type": "stream",
     "text": [
      "/home/lw/clc_fairseq/20210113-1520\r\n"
     ]
    }
   ],
   "source": [
    "import os\n",
    "import time\n",
    "name = \"TED-\"+ str(time.strftime(\"%Y%m%d-%H%M\"))\n",
    "\n",
    "!mkdir $name\n",
    "path = os.getcwd() + \"/\" + name\n",
    "os.chdir(path)\n",
    "\n",
    "!pwd\n",
    "\n",
    "\n",
    "os.chdir(path)"
   ]
  },
  {
   "cell_type": "code",
   "execution_count": 3,
   "metadata": {},
   "outputs": [
    {
     "name": "stdout",
     "output_type": "stream",
     "text": [
      "--2021-01-13 15:20:28--  https://github.com/hoangtrungchinh/clc_data/raw/master/en_vi_iwslt.tar.gz\n",
      "Resolving github.com (github.com)... 13.250.177.223\n",
      "Connecting to github.com (github.com)|13.250.177.223|:443... connected.\n",
      "HTTP request sent, awaiting response... 302 Found\n",
      "Location: https://raw.githubusercontent.com/hoangtrungchinh/clc_data/master/en_vi_iwslt.tar.gz [following]\n",
      "--2021-01-13 15:20:30--  https://raw.githubusercontent.com/hoangtrungchinh/clc_data/master/en_vi_iwslt.tar.gz\n",
      "Resolving raw.githubusercontent.com (raw.githubusercontent.com)... 151.101.8.133\n",
      "Connecting to raw.githubusercontent.com (raw.githubusercontent.com)|151.101.8.133|:443... connected.\n",
      "HTTP request sent, awaiting response... 200 OK\n",
      "Length: 9044100 (8,6M) [application/octet-stream]\n",
      "Saving to: ‘en_vi_iwslt.tar.gz’\n",
      "\n",
      "en_vi_iwslt.tar.gz  100%[===================>]   8,62M  4,02MB/s    in 2,1s    \n",
      "\n",
      "2021-01-13 15:20:33 (4,02 MB/s) - ‘en_vi_iwslt.tar.gz’ saved [9044100/9044100]\n",
      "\n",
      "IWSLT15.TED.tst2013.en-vi.en\n",
      "IWSLT15.TED.tst2013.en-vi.vi\n",
      "IWSLT15.TED.tst2012.en-vi.en\n",
      "IWSLT15.TED.tst2012.en-vi.vi\n",
      "train.en\n",
      "train.vi\n",
      "IWSLT15.TED.tst2015.en-vi.en\n",
      "IWSLT15.TED.tst2015.en-vi.vi\n"
     ]
    }
   ],
   "source": [
    "!wget https://github.com/hoangtrungchinh/clc_data/raw/master/en_vi_iwslt.tar.gz\n",
    "!mkdir data_bin\n",
    "!tar -xvf  'en_vi_iwslt.tar.gz' -C 'data_bin'"
   ]
  },
  {
   "cell_type": "code",
   "execution_count": 4,
   "metadata": {},
   "outputs": [
    {
     "name": "stdout",
     "output_type": "stream",
     "text": [
      "['data_bin/IWSLT15.TED.tst2012.en-vi.en', 'data_bin/IWSLT15.TED.tst2013.en-vi.en', 'data_bin/IWSLT15.TED.tst2015.en-vi.en', 'data_bin/train.en']\n",
      "['data_bin/IWSLT15.TED.tst2012.en-vi.vi', 'data_bin/IWSLT15.TED.tst2013.en-vi.vi', 'data_bin/IWSLT15.TED.tst2015.en-vi.vi', 'data_bin/train.vi']\n",
      "120956\n",
      "120956\n"
     ]
    }
   ],
   "source": [
    "# import file\n",
    "import numpy as np\n",
    "import glob\n",
    "\n",
    "en_files = sorted(glob.glob(\"data_bin/*.en\"))\n",
    "vi_files = sorted(glob.glob(\"data_bin/*.vi\"))\n",
    "print(en_files)\n",
    "print(vi_files)\n",
    "\n",
    "lst_en = []\n",
    "lst_vi = []\n",
    "\n",
    "start = time.time()\n",
    "\n",
    "for file in en_files:\n",
    "  with open(file) as file_in:\n",
    "    for line in file_in:\n",
    "      lst_en.append(line)\n",
    "\n",
    "for file in vi_files:\n",
    "  with open(file) as file_in:\n",
    "    for line in file_in:\n",
    "      lst_vi.append(line)\n",
    "\n",
    "print(len(lst_en))\n",
    "print(len(lst_vi))"
   ]
  },
  {
   "cell_type": "code",
   "execution_count": 5,
   "metadata": {
    "scrolled": true
   },
   "outputs": [
    {
     "name": "stdout",
     "output_type": "stream",
     "text": [
      "96764\n",
      "96764\n",
      "12096\n",
      "12096\n",
      "12096\n",
      "12096\n",
      "And , in fact , when we did some experiments looking at this , what we found is that 46 percent of the variation in how many friends you have is explained by your genes .\n",
      "\n",
      "Trong thực tế , khi thực hiện một vài thí nghiệm nghiên cứu vấn đề này , chúng tôi nhận ra 46 % sự khác biệt trong số bạn bè của bạn được giải thích bằng gen của bạn .\n",
      "\n",
      "This is a chart of what it looked like when it first became popular last summer .\n",
      "\n",
      "Đây là biểu đồ thể hiện điều đó khi video này lần đầu tiên trở nên phổ biến vào mùa hè trước .\n",
      "\n",
      "And what will happen in the future ?\n",
      "\n",
      "Chuyện gì sẽ xảy ra trong tương lai ?\n",
      "\n"
     ]
    }
   ],
   "source": [
    "# SPLIT TRAIN, TEST, VALID\n",
    "from sklearn.model_selection import train_test_split\n",
    "en_train, en_test_valid, vi_train, vi_test_valid =  train_test_split(lst_en, lst_vi, test_size=0.2, random_state=123)\n",
    "en_valid, en_test, vi_valid, vi_test = train_test_split(en_test_valid, vi_test_valid, test_size=0.5, random_state=123)\n",
    "print(len(en_train))\n",
    "print(len(vi_train))\n",
    "print(len(en_valid))\n",
    "print(len(vi_valid))\n",
    "print(len(en_test))\n",
    "print(len(vi_test))\n",
    "print(en_train[20])\n",
    "print(vi_train[20])\n",
    "print(en_valid[-1])\n",
    "print(vi_valid[-1])\n",
    "print(en_test[-1])\n",
    "print(vi_test[-1])"
   ]
  },
  {
   "cell_type": "code",
   "execution_count": 6,
   "metadata": {},
   "outputs": [
    {
     "name": "stdout",
     "output_type": "stream",
     "text": [
      "total 36844\r\n",
      "drwxrwxr-x 3 lw lw     4096 Thg 1  13 15:20 .\r\n",
      "drwxrwxr-x 7 lw lw     4096 Thg 1  13 15:20 ..\r\n",
      "drwxrwxr-x 2 lw lw     4096 Thg 1  13 15:20 data_bin\r\n",
      "-rw-rw-r-- 1 lw lw  1260181 Thg 1  13 15:20 en_test\r\n",
      "-rw-rw-r-- 1 lw lw 10011509 Thg 1  13 15:20 en_train\r\n",
      "-rw-rw-r-- 1 lw lw  1249342 Thg 1  13 15:20 en_valid\r\n",
      "-rw-rw-r-- 1 lw lw  9044100 Thg 1  13 15:20 en_vi_iwslt.tar.gz\r\n",
      "-rw-rw-r-- 1 lw lw  1624771 Thg 1  13 15:20 vi_test\r\n",
      "-rw-rw-r-- 1 lw lw 12896000 Thg 1  13 15:20 vi_train\r\n",
      "-rw-rw-r-- 1 lw lw  1609835 Thg 1  13 15:20 vi_valid\r\n"
     ]
    }
   ],
   "source": [
    "file_variable = [en_train,vi_train,en_valid,vi_valid,en_test,vi_test]\n",
    "file_names = [\"en_train\",\"vi_train\",\"en_valid\",\"vi_valid\",\"en_test\",\"vi_test\"]\n",
    "\n",
    "for i in range(len(file_names)):\n",
    "  with open(file_names[i], 'w') as f:\n",
    "    for item in file_variable[i]:\n",
    "      f.write(item)\n",
    "!ls -al"
   ]
  },
  {
   "cell_type": "code",
   "execution_count": 7,
   "metadata": {},
   "outputs": [
    {
     "name": "stdout",
     "output_type": "stream",
     "text": [
      "=== Ending, Total time (second):  6.503113031387329\n"
     ]
    }
   ],
   "source": [
    "start = time.time()\n",
    "import sent2vec\n",
    "model = sent2vec.Sent2vecModel()\n",
    "model.load_model('../wiki_unigrams.bin')\n",
    "\n",
    "print('=== Ending, Total time (second): ', time.time() - start)"
   ]
  },
  {
   "cell_type": "code",
   "execution_count": 8,
   "metadata": {},
   "outputs": [],
   "source": [
    "srcfile = \"en_train\"\n",
    "tarfile = \"vi_train\"\n",
    "# lst_srcfile = open(srcfile, \"r\").readlines()\n",
    "# lst_tarfile = open(tarfile, \"r\").readlines()\n",
    "lst_srcfile = en_train\n",
    "lst_tarfile = vi_train\n",
    "\n",
    "vec_lst_srcfile = model.embed_sentences(lst_srcfile)"
   ]
  },
  {
   "cell_type": "markdown",
   "metadata": {},
   "source": [
    "Test Cosin similarity"
   ]
  },
  {
   "cell_type": "code",
   "execution_count": 9,
   "metadata": {
    "scrolled": true
   },
   "outputs": [
    {
     "name": "stdout",
     "output_type": "stream",
     "text": [
      "=== Ending, Total time (second):  76.73803758621216\n",
      "=== Ending, Total time (second):  76.73821020126343\n",
      "[[    0 35305 41676 43042  4311  4864]\n",
      " [    1 69317 55307 20678 90041  5955]\n",
      " [    2 32305 19196  3145 74668 49940]\n",
      " ...\n",
      " [96761 23129  4275 71607 12392 67164]\n",
      " [96762  1864 77275 74179 54036 28801]\n",
      " [96763 85347 21184 44165 24605 52166]]\n",
      "[[0.0000000e+00 6.6998875e-01 7.3994982e-01 7.4247205e-01 7.4674928e-01\n",
      "  7.5621331e-01]\n",
      " [0.0000000e+00 6.7452312e-01 6.7536390e-01 6.8550754e-01 6.9720864e-01\n",
      "  7.0347011e-01]\n",
      " [0.0000000e+00 5.8817363e-01 6.4495087e-01 6.6965878e-01 6.7031384e-01\n",
      "  6.7404485e-01]\n",
      " ...\n",
      " [0.0000000e+00 7.9059279e-01 7.9934967e-01 8.1222677e-01 8.2138360e-01\n",
      "  8.2454550e-01]\n",
      " [0.0000000e+00 9.4278812e-01 1.0312700e+00 1.0327064e+00 1.0494604e+00\n",
      "  1.0516963e+00]\n",
      " [4.7683716e-07 6.7013419e-01 7.6927340e-01 7.8463757e-01 8.8304937e-01\n",
      "  9.2391801e-01]]\n"
     ]
    }
   ],
   "source": [
    "import faiss\n",
    "\n",
    "start = time.time()\n",
    "vec_lst_srcfile = model.embed_sentences(lst_srcfile)\n",
    "vec_lst_srcfile2 = model.embed_sentences(lst_srcfile)\n",
    "x = vec_lst_srcfile\n",
    "q = vec_lst_srcfile2\n",
    "index = faiss.IndexFlatL2(600)\n",
    "# index = faiss.index_factory(3, \"Flat\", faiss.METRIC_INNER_PRODUCT)\n",
    "index.ntotal\n",
    "faiss.normalize_L2(x)\n",
    "index.add(x)\n",
    "faiss.normalize_L2(q)\n",
    "k = 6\n",
    "distance, index = index.search(q, k)\n",
    "\n",
    "print('=== Ending, Total time (second): ', time.time() - start)\n",
    "print(len(distance))\n",
    "print(len(index))\n",
    "\n",
    "print(index)\n",
    "print(distance)"
   ]
  },
  {
   "cell_type": "code",
   "execution_count": 11,
   "metadata": {},
   "outputs": [
    {
     "name": "stdout",
     "output_type": "stream",
     "text": [
      "31083\n",
      "==================================\n",
      "0.70538425\n",
      "0.7053839\n"
     ]
    }
   ],
   "source": [
    "i = 6\n",
    "j = k-1\n",
    "print(index[i][j])\n",
    "print(\"==================================\")\n",
    "print(distance[i][j])\n",
    "a = vec_lst_srcfile[i]\n",
    "# print(a)\n",
    "b = vec_lst_srcfile[index[i][j]]\n",
    "# TEST\n",
    "dist_squared = np.sum(np.square(a - b))\n",
    "print(dist_squared)"
   ]
  },
  {
   "cell_type": "code",
   "execution_count": 12,
   "metadata": {},
   "outputs": [
    {
     "name": "stdout",
     "output_type": "stream",
     "text": [
      "It &apos;s like the guy is sitting next to you , whispering who knows what into your ear .\n",
      "19\n",
      "19\n",
      "======================\n",
      "They go bad very quickly if you don &apos;t , and if you don &apos;t have stable power grid , this doesn &apos;t happen , so kids die .\n",
      "29\n",
      "29\n",
      "======================\n",
      "Now let me ask you this question : This past week at TED , how many of you , when you saw vulnerability up here , thought it was pure courage ?\n",
      "32\n",
      "32\n",
      "======================\n",
      "My archive : 175 films , my 16-millimeter negative , all my books , my dad &apos;s books , my photographs .\n",
      "22\n",
      "22\n",
      "======================\n",
      "Now , a few weeks before our vote , Lake Superior State University issues its list of banished words for the year . || Cứ đến tháng Một , chúng tôi đến cuộc họp thường niên Hội Phương ngữ Mỹ trong nhiều việc làm ở đó có bầu chọn Từ của năm .\n",
      "53\n",
      "53\n",
      "======================\n",
      "It &apos;s you and I who make our fates -- we open up or close the gates on the road ahead or the road behind . &quot; || &quot; Và chúng tôi muốn xúc tiến và kết thúc vụ này .\n",
      "41\n",
      "41\n",
      "======================\n",
      "Now this is several years ago . Adjusted for inflation , it &apos;s a decent sum of money for a few minutes of work .\n",
      "25\n",
      "25\n",
      "======================\n",
      "How do you expect me to repay my loan ? &quot;\n",
      "11\n",
      "11\n",
      "======================\n",
      "But the Taiwanese babies are getting better , not the American babies .\n",
      "13\n",
      "13\n",
      "======================\n",
      "You &apos;re having a heart attack .\n",
      "7\n",
      "7\n",
      "======================\n",
      "=== Ending, Total time (second):  4.0177321434021\n"
     ]
    }
   ],
   "source": [
    "start = time.time()\n",
    "saperate = \" || \"\n",
    "threshold = 0.8\n",
    "src_label = \"S\"\n",
    "emb_label = \"E\"\n",
    "\n",
    "out_file_write = open(\"en_train_EM\", 'w')\n",
    "out_file_write_score = open(\"en_train_EM_score\", 'w')\n",
    "out_file_write_factor = open(\"en_train_EM_factor\", 'w')\n",
    "\n",
    "for i in range(len(lst_srcfile)):\n",
    "    score = distance[i][1]\n",
    "    content = \"\"\n",
    "    content_label_arr = []\n",
    "    if score >= threshold:\n",
    "        best_simi_index = index[i][1]\n",
    "        content = lst_srcfile[i].strip() + saperate + lst_tarfile[best_simi_index].strip()\n",
    "        \n",
    "        content_label = [src_label] * len(lst_srcfile[i].split())\n",
    "        content_label.append(emb_label)\n",
    "        content_label = content_label + [emb_label] * len(lst_tarfile[best_simi_index].split())\n",
    "        \n",
    "        content_label_arr = \" \".join(content_label)\n",
    "        \n",
    "        \n",
    "   \n",
    "    else:\n",
    "        content = lst_srcfile[i].strip()\n",
    "        content_label = [src_label] * len(lst_srcfile[i].split())\n",
    "        content_label_arr = \" \".join(content_label)\n",
    "        \n",
    "        \n",
    "    if i<10:\n",
    "        print(content)\n",
    "        print(len(content.split()))  \n",
    "        print(len(content_label))\n",
    "        print(\"======================\")\n",
    "        \n",
    "\n",
    "    out_file_write.writelines(content+ \"\\n\")    \n",
    "    out_file_write_factor.writelines(content_label_arr + \"\\n\")\n",
    "    out_file_write_score.writelines(str(score) + \"\\n\")\n",
    "        \n",
    "\n",
    "out_file_write.close()\n",
    "\n",
    "done = time.time()\n",
    "elapsed = done - start\n",
    "print('=== Ending, Total time (second): ', elapsed)"
   ]
  }
 ],
 "metadata": {
  "kernelspec": {
   "display_name": "Python 3",
   "language": "python",
   "name": "python3"
  },
  "language_info": {
   "codemirror_mode": {
    "name": "ipython",
    "version": 3
   },
   "file_extension": ".py",
   "mimetype": "text/x-python",
   "name": "python",
   "nbconvert_exporter": "python",
   "pygments_lexer": "ipython3",
   "version": "3.6.12"
  }
 },
 "nbformat": 4,
 "nbformat_minor": 4
}
